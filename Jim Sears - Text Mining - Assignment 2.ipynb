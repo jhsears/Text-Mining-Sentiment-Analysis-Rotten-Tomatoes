{
 "cells": [
  {
   "cell_type": "code",
   "execution_count": 1,
   "metadata": {},
   "outputs": [],
   "source": [
    "from sklearn.model_selection import train_test_split\n",
    "from sklearn.metrics import classification_report\n",
    "from sklearn.naive_bayes import MultinomialNB\n",
    "from sklearn.feature_extraction.text import CountVectorizer\n",
    "import pandas as pd\n",
    "import nltk\n",
    "import string"
   ]
  },
  {
   "cell_type": "code",
   "execution_count": 16,
   "metadata": {},
   "outputs": [],
   "source": [
    "#import file of reviews\n",
    "df = pd.read_csv('critics.csv')\n",
    "#remove reviews without text, reset index\n",
    "df = df[~df['quote'].isnull()]\n",
    "df = df.reset_index(drop=True)\n",
    "#remove reviews without a \"fresh\" or \"rotten\" rating, reset index\n",
    "df = df[df['fresh'].isin(['fresh','rotten'])]\n",
    "df = df.reset_index(drop=True)\n",
    "#create reset point for df\n",
    "starter = df"
   ]
  },
  {
   "cell_type": "code",
   "execution_count": 174,
   "metadata": {},
   "outputs": [],
   "source": [
    "#reset df to \"undo\" modifications and start over\n",
    "df = starter"
   ]
  },
  {
   "cell_type": "code",
   "execution_count": 139,
   "metadata": {},
   "outputs": [],
   "source": [
    "#Baseline: original sklearn Count Vectorizer with lowercase normalization, default tokenizer\n",
    "vectorizer_baseline = CountVectorizer()"
   ]
  },
  {
   "cell_type": "code",
   "execution_count": 138,
   "metadata": {},
   "outputs": [],
   "source": [
    "# 1. Preprocessing Modifications to Count Vectorizer\n",
    "#    Each vectorizer (1a, 1b, 1c) adds an additional preprocessing step to the previous version"
   ]
  },
  {
   "cell_type": "code",
   "execution_count": 17,
   "metadata": {},
   "outputs": [],
   "source": [
    "# 1a. Count Vectorizer with preprocessing the following modification(s): \n",
    "#     normalize with stemmer\n",
    "\n",
    "class StemTokenizer(object):\n",
    "    def __init__(self):\n",
    "        self.stemmer = nltk.PorterStemmer()\n",
    "                \n",
    "    def __call__(self, doc):\n",
    "        return [self.stemmer.stem(t) for t in nltk.word_tokenize(doc)]\n",
    "\n",
    "vectorizer_1a = CountVectorizer(\n",
    "    lowercase = True,\n",
    "    # tokenize and stem\n",
    "    tokenizer=StemTokenizer()\n",
    ")"
   ]
  },
  {
   "cell_type": "code",
   "execution_count": 18,
   "metadata": {},
   "outputs": [],
   "source": [
    "# 1b. Count Vectorizer with preprocessing the following modification(s): \n",
    "#     normalize with stemmer\n",
    "#     clean stop words and punctuation\n",
    "\n",
    "class StemStopWordsTokenizer(object):\n",
    "    def __init__(self):\n",
    "        self.stemmer = nltk.PorterStemmer()\n",
    "        stop_words_list = [nltk.word_tokenize(word) for word in nltk.corpus.stopwords.words('English')]\n",
    "        stop_words_flattened = set([item for sublist in stop_words_list for item in sublist])\n",
    "        self.stop_words = list(stop_words_flattened) + list(string.punctuation)\n",
    "        \n",
    "    def __call__(self, doc):\n",
    "        return [self.stemmer.stem(t) for t in nltk.word_tokenize(doc) if t not in self.stop_words]\n",
    "\n",
    "vectorizer_1b = CountVectorizer(\n",
    "    lowercase = True,\n",
    "    #tokenize, stem, remove stop words / punctuation\n",
    "    tokenizer=StemStopWordsTokenizer()\n",
    ")"
   ]
  },
  {
   "cell_type": "code",
   "execution_count": 30,
   "metadata": {},
   "outputs": [],
   "source": [
    "# 1c. Count Vectorizer with preprocessing the following modification(s): \n",
    "#     normalize with stemmer\n",
    "#     clean stop words and punctuation \n",
    "#     limit document frequency\n",
    "\n",
    "class StemStopWordsTokenizer(object):\n",
    "    def __init__(self):\n",
    "        self.stemmer = nltk.PorterStemmer()\n",
    "        stop_words_list = [nltk.word_tokenize(word) for word in nltk.corpus.stopwords.words('English')]\n",
    "        stop_words_flattened = set([item for sublist in stop_words_list for item in sublist])\n",
    "        self.stop_words = list(stop_words_flattened) + list(string.punctuation)\n",
    "        \n",
    "    def __call__(self, doc):\n",
    "        return [self.stemmer.stem(t) for t in nltk.word_tokenize(doc) if t not in self.stop_words]\n",
    "\n",
    "vectorizer_1c = CountVectorizer(\n",
    "    lowercase = True,\n",
    "    # tokenize, stem, remove stop words / punctuation\n",
    "    tokenizer=StemStopWordsTokenizer(),\n",
    "    # set document frequency minimum\n",
    "    min_df=15\n",
    ")"
   ]
  },
  {
   "cell_type": "code",
   "execution_count": null,
   "metadata": {},
   "outputs": [],
   "source": [
    "# 3. Context Incorporation to Count Vectorizer with N-grams"
   ]
  },
  {
   "cell_type": "code",
   "execution_count": 146,
   "metadata": {},
   "outputs": [],
   "source": [
    "# 3a. Count Vectorizer (1c) with the following modification(s): \n",
    "#     normalize with stemmer\n",
    "#     clean stop words and punctuation \n",
    "#     limit document frequency\n",
    "#     incorporate word context with n-grams\n",
    "\n",
    "class StemStopWordsTokenizer(object):\n",
    "    def __init__(self):\n",
    "        self.stemmer = nltk.PorterStemmer()\n",
    "        stop_words_list = [nltk.word_tokenize(word) for word in nltk.corpus.stopwords.words('English')]\n",
    "        stop_words_flattened = set([item for sublist in stop_words_list for item in sublist])\n",
    "        self.stop_words = list(stop_words_flattened) + list(string.punctuation)\n",
    "        \n",
    "    def __call__(self, doc):\n",
    "        return [self.stemmer.stem(t) for t in nltk.word_tokenize(doc) if t not in self.stop_words]\n",
    "\n",
    "vectorizer_3a = CountVectorizer(\n",
    "    lowercase = True,\n",
    "    #set n-grams (2 = bigrams, 3 = trigrams, etc.)\n",
    "    ngram_range=(1, 2),\n",
    "    # tokenize, stem, remove stop words / punctuation\n",
    "    tokenizer=StemStopWordsTokenizer(),\n",
    "    #set document frequency minimum\n",
    "    min_df=15\n",
    ")"
   ]
  },
  {
   "cell_type": "code",
   "execution_count": 175,
   "metadata": {},
   "outputs": [],
   "source": [
    "# 3b. Count Vectorizer with preprocessing the following modification(s): \n",
    "#     normalize with stemmer\n",
    "#     limit document frequency\n",
    "#     !!! Stop words included !!!\n",
    "#     incorporate word context with n-grams\n",
    "\n",
    "class StemTokenizer(object):\n",
    "    def __init__(self):\n",
    "        self.stemmer = nltk.PorterStemmer()\n",
    "                \n",
    "    def __call__(self, doc):\n",
    "        return [self.stemmer.stem(t) for t in nltk.word_tokenize(doc)]\n",
    "\n",
    "vectorizer_3b = CountVectorizer(\n",
    "    lowercase = True,\n",
    "    #set n-grams (2 = bigrams, 3 = trigrams, etc.)\n",
    "    ngram_range=(1, 2),\n",
    "    # tokenize and stem\n",
    "    tokenizer=StemTokenizer(),\n",
    "    #set document frequency minimum\n",
    "    min_df=5\n",
    ")"
   ]
  },
  {
   "cell_type": "code",
   "execution_count": 176,
   "metadata": {},
   "outputs": [
    {
     "name": "stdout",
     "output_type": "stream",
     "text": [
      "14749\n"
     ]
    }
   ],
   "source": [
    "#Vectorize with vectorizer_baseline, vectorizer_1a, vectorizer_1b, vectorizer_1c, vectorizer_3a, vectorizer_3b\n",
    "vectorized = vectorizer_3b.fit_transform(df['quote'])\n",
    "X = pd.DataFrame.sparse.from_spmatrix(vectorized, columns=vectorizer_3b.get_feature_names())\n",
    "y = df['fresh'] == 'fresh'\n",
    "print(len(X.columns))\n",
    "\n",
    "#Split data to train (75%) and test (25%) sets\n",
    "X_train, X_test, y_train, y_test = train_test_split(X, y, test_size = 0.25, random_state = 42)"
   ]
  },
  {
   "cell_type": "code",
   "execution_count": 186,
   "metadata": {},
   "outputs": [
    {
     "data": {
      "text/plain": [
       "MultinomialNB(alpha=0.7)"
      ]
     },
     "execution_count": 186,
     "metadata": {},
     "output_type": "execute_result"
    }
   ],
   "source": [
    "#Modification 2: Adjust Naive Bayes alpha hyperparameter (originally 0.01)\n",
    "\n",
    "nb = MultinomialNB(alpha=0.7)\n",
    "nb.fit(X_train,y_train)"
   ]
  },
  {
   "cell_type": "code",
   "execution_count": 185,
   "metadata": {},
   "outputs": [
    {
     "name": "stdout",
     "output_type": "stream",
     "text": [
      "              precision    recall  f1-score   support\n",
      "\n",
      "       False       0.68      0.71      0.70      1480\n",
      "        True       0.82      0.80      0.81      2404\n",
      "\n",
      "    accuracy                           0.77      3884\n",
      "   macro avg       0.75      0.75      0.75      3884\n",
      "weighted avg       0.77      0.77      0.77      3884\n",
      "\n"
     ]
    }
   ],
   "source": [
    "predictions = nb.predict(X_test)\n",
    "print(classification_report(y_test, predictions))"
   ]
  },
  {
   "cell_type": "code",
   "execution_count": null,
   "metadata": {},
   "outputs": [],
   "source": []
  }
 ],
 "metadata": {
  "kernelspec": {
   "display_name": "Python 3",
   "language": "python",
   "name": "python3"
  },
  "language_info": {
   "codemirror_mode": {
    "name": "ipython",
    "version": 3
   },
   "file_extension": ".py",
   "mimetype": "text/x-python",
   "name": "python",
   "nbconvert_exporter": "python",
   "pygments_lexer": "ipython3",
   "version": "3.8.5"
  }
 },
 "nbformat": 4,
 "nbformat_minor": 2
}
